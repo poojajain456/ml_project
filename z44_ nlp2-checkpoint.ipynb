{
 "cells": [
  {
   "cell_type": "code",
   "execution_count": 1,
   "id": "e93a1318",
   "metadata": {},
   "outputs": [],
   "source": [
    "import numpy as np\n",
    "import pandas as pd"
   ]
  },
  {
   "cell_type": "code",
   "execution_count": 2,
   "id": "46589dfe",
   "metadata": {},
   "outputs": [],
   "source": [
    "df=pd.DataFrame({'text':['people watch cricket','player was player','people write conntent']})\n"
   ]
  },
  {
   "cell_type": "code",
   "execution_count": 3,
   "id": "a2bab080",
   "metadata": {},
   "outputs": [
    {
     "data": {
      "text/html": [
       "<div>\n",
       "<style scoped>\n",
       "    .dataframe tbody tr th:only-of-type {\n",
       "        vertical-align: middle;\n",
       "    }\n",
       "\n",
       "    .dataframe tbody tr th {\n",
       "        vertical-align: top;\n",
       "    }\n",
       "\n",
       "    .dataframe thead th {\n",
       "        text-align: right;\n",
       "    }\n",
       "</style>\n",
       "<table border=\"1\" class=\"dataframe\">\n",
       "  <thead>\n",
       "    <tr style=\"text-align: right;\">\n",
       "      <th></th>\n",
       "      <th>text</th>\n",
       "    </tr>\n",
       "  </thead>\n",
       "  <tbody>\n",
       "    <tr>\n",
       "      <th>0</th>\n",
       "      <td>people watch cricket</td>\n",
       "    </tr>\n",
       "    <tr>\n",
       "      <th>1</th>\n",
       "      <td>player was player</td>\n",
       "    </tr>\n",
       "    <tr>\n",
       "      <th>2</th>\n",
       "      <td>people write conntent</td>\n",
       "    </tr>\n",
       "  </tbody>\n",
       "</table>\n",
       "</div>"
      ],
      "text/plain": [
       "                    text\n",
       "0   people watch cricket\n",
       "1      player was player\n",
       "2  people write conntent"
      ]
     },
     "execution_count": 3,
     "metadata": {},
     "output_type": "execute_result"
    }
   ],
   "source": [
    "df"
   ]
  },
  {
   "cell_type": "code",
   "execution_count": 4,
   "id": "63d5ce0b",
   "metadata": {},
   "outputs": [],
   "source": [
    "from sklearn.feature_extraction.text import CountVectorizer"
   ]
  },
  {
   "cell_type": "code",
   "execution_count": 5,
   "id": "6e737552",
   "metadata": {},
   "outputs": [],
   "source": [
    "cv=CountVectorizer()"
   ]
  },
  {
   "cell_type": "code",
   "execution_count": 6,
   "id": "d6323e94",
   "metadata": {},
   "outputs": [],
   "source": [
    "bow=cv.fit_transform(df['text'])"
   ]
  },
  {
   "cell_type": "code",
   "execution_count": 7,
   "id": "f0457c20",
   "metadata": {},
   "outputs": [
    {
     "name": "stdout",
     "output_type": "stream",
     "text": [
      "{'people': 2, 'watch': 5, 'cricket': 1, 'player': 3, 'was': 4, 'write': 6, 'conntent': 0}\n"
     ]
    }
   ],
   "source": [
    "#vocab\n",
    "print(cv.vocabulary_)"
   ]
  },
  {
   "cell_type": "code",
   "execution_count": 8,
   "id": "b29be875",
   "metadata": {},
   "outputs": [
    {
     "name": "stdout",
     "output_type": "stream",
     "text": [
      "[[0 1 1 0 0 1 0]]\n",
      "[[0 0 0 2 1 0 0]]\n"
     ]
    }
   ],
   "source": [
    "print(bow[0].toarray())\n",
    "print(bow[1].toarray())"
   ]
  },
  {
   "cell_type": "code",
   "execution_count": 9,
   "id": "7a11b566",
   "metadata": {},
   "outputs": [
    {
     "data": {
      "text/plain": [
       "array([[0, 2, 0, 0, 0, 1, 1]], dtype=int64)"
      ]
     },
     "execution_count": 9,
     "metadata": {},
     "output_type": "execute_result"
    }
   ],
   "source": [
    "cv.transform([\"cricket watch and write comment of cricket comment\"]).toarray()"
   ]
  },
  {
   "cell_type": "code",
   "execution_count": 10,
   "id": "bf315bd7",
   "metadata": {},
   "outputs": [],
   "source": [
    "#2. N-grams\n"
   ]
  },
  {
   "cell_type": "code",
   "execution_count": 11,
   "id": "ed5cb62f",
   "metadata": {},
   "outputs": [],
   "source": [
    "#cv=CountVectorizer(ngram_range(2,2))"
   ]
  },
  {
   "cell_type": "code",
   "execution_count": 12,
   "id": "a0e0ba85",
   "metadata": {},
   "outputs": [],
   "source": [
    "v=CountVectorizer(ngram_range=(1,2))\n",
    "#v=CountVectorizer(ngram_range=(2,2))"
   ]
  },
  {
   "cell_type": "code",
   "execution_count": 13,
   "id": "8ce014c6",
   "metadata": {},
   "outputs": [],
   "source": [
    "bow=v.fit_transform(df['text'])"
   ]
  },
  {
   "cell_type": "code",
   "execution_count": 14,
   "id": "ef17d33e",
   "metadata": {},
   "outputs": [
    {
     "data": {
      "text/plain": [
       "0     people watch cricket\n",
       "1        player was player\n",
       "2    people write conntent\n",
       "Name: text, dtype: object"
      ]
     },
     "execution_count": 14,
     "metadata": {},
     "output_type": "execute_result"
    }
   ],
   "source": [
    "df['text']"
   ]
  },
  {
   "cell_type": "code",
   "execution_count": 15,
   "id": "53461bb5",
   "metadata": {},
   "outputs": [
    {
     "name": "stdout",
     "output_type": "stream",
     "text": [
      "{'people': 2, 'watch': 9, 'cricket': 1, 'people watch': 3, 'watch cricket': 10, 'player': 5, 'was': 7, 'player was': 6, 'was player': 8, 'write': 11, 'conntent': 0, 'people write': 4, 'write conntent': 12}\n"
     ]
    }
   ],
   "source": [
    "#vocab\n",
    "print(v.vocabulary_)"
   ]
  },
  {
   "cell_type": "code",
   "execution_count": 16,
   "id": "a0883bb8",
   "metadata": {},
   "outputs": [],
   "source": [
    "#TF(Team Frequency)\n",
    "#2. IDF(Inverse document frequency)"
   ]
  },
  {
   "cell_type": "code",
   "execution_count": null,
   "id": "09184b60",
   "metadata": {},
   "outputs": [],
   "source": [
    "#tf(t,d)=(number of accurences of term t in document d)\\(total number of terms in the document d)\n",
    "#example 1==> \n",
    "#d1=people watch cricket\n",
    "\n",
    "#tf(people,d1)"
   ]
  }
 ],
 "metadata": {
  "kernelspec": {
   "display_name": "Python 3 (ipykernel)",
   "language": "python",
   "name": "python3"
  },
  "language_info": {
   "codemirror_mode": {
    "name": "ipython",
    "version": 3
   },
   "file_extension": ".py",
   "mimetype": "text/x-python",
   "name": "python",
   "nbconvert_exporter": "python",
   "pygments_lexer": "ipython3",
   "version": "3.11.4"
  }
 },
 "nbformat": 4,
 "nbformat_minor": 5
}
