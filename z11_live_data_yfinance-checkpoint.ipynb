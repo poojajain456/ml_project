{
 "cells": [
  {
   "cell_type": "code",
   "execution_count": 3,
   "id": "2df2a5e1",
   "metadata": {},
   "outputs": [
    {
     "name": "stdout",
     "output_type": "stream",
     "text": [
      "Requirement already satisfied: yfinance in c:\\users\\pujaj\\anaconda3\\lib\\site-packages (0.2.30)\n",
      "Requirement already satisfied: pandas>=1.3.0 in c:\\users\\pujaj\\anaconda3\\lib\\site-packages (from yfinance) (1.5.3)\n",
      "Requirement already satisfied: numpy>=1.16.5 in c:\\users\\pujaj\\anaconda3\\lib\\site-packages (from yfinance) (1.24.3)\n",
      "Requirement already satisfied: requests>=2.31 in c:\\users\\pujaj\\anaconda3\\lib\\site-packages (from yfinance) (2.31.0)\n",
      "Requirement already satisfied: multitasking>=0.0.7 in c:\\users\\pujaj\\anaconda3\\lib\\site-packages (from yfinance) (0.0.11)\n",
      "Requirement already satisfied: lxml>=4.9.1 in c:\\users\\pujaj\\anaconda3\\lib\\site-packages (from yfinance) (4.9.2)\n",
      "Requirement already satisfied: appdirs>=1.4.4 in c:\\users\\pujaj\\anaconda3\\lib\\site-packages (from yfinance) (1.4.4)\n",
      "Requirement already satisfied: pytz>=2022.5 in c:\\users\\pujaj\\anaconda3\\lib\\site-packages (from yfinance) (2022.7)\n",
      "Requirement already satisfied: frozendict>=2.3.4 in c:\\users\\pujaj\\anaconda3\\lib\\site-packages (from yfinance) (2.3.8)\n",
      "Requirement already satisfied: peewee>=3.16.2 in c:\\users\\pujaj\\anaconda3\\lib\\site-packages (from yfinance) (3.16.3)\n",
      "Requirement already satisfied: beautifulsoup4>=4.11.1 in c:\\users\\pujaj\\anaconda3\\lib\\site-packages (from yfinance) (4.12.2)\n",
      "Requirement already satisfied: html5lib>=1.1 in c:\\users\\pujaj\\anaconda3\\lib\\site-packages (from yfinance) (1.1)\n",
      "Requirement already satisfied: soupsieve>1.2 in c:\\users\\pujaj\\anaconda3\\lib\\site-packages (from beautifulsoup4>=4.11.1->yfinance) (2.4)\n",
      "Requirement already satisfied: six>=1.9 in c:\\users\\pujaj\\anaconda3\\lib\\site-packages (from html5lib>=1.1->yfinance) (1.16.0)\n",
      "Requirement already satisfied: webencodings in c:\\users\\pujaj\\anaconda3\\lib\\site-packages (from html5lib>=1.1->yfinance) (0.5.1)\n",
      "Requirement already satisfied: python-dateutil>=2.8.1 in c:\\users\\pujaj\\anaconda3\\lib\\site-packages (from pandas>=1.3.0->yfinance) (2.8.2)\n",
      "Requirement already satisfied: charset-normalizer<4,>=2 in c:\\users\\pujaj\\anaconda3\\lib\\site-packages (from requests>=2.31->yfinance) (2.0.4)\n",
      "Requirement already satisfied: idna<4,>=2.5 in c:\\users\\pujaj\\anaconda3\\lib\\site-packages (from requests>=2.31->yfinance) (3.4)\n",
      "Requirement already satisfied: urllib3<3,>=1.21.1 in c:\\users\\pujaj\\anaconda3\\lib\\site-packages (from requests>=2.31->yfinance) (1.26.16)\n",
      "Requirement already satisfied: certifi>=2017.4.17 in c:\\users\\pujaj\\anaconda3\\lib\\site-packages (from requests>=2.31->yfinance) (2023.7.22)\n"
     ]
    }
   ],
   "source": [
    "!pip install yfinance"
   ]
  },
  {
   "cell_type": "code",
   "execution_count": 4,
   "id": "b31ebf1e",
   "metadata": {},
   "outputs": [],
   "source": [
    "import numpy as np\n",
    "import pandas as pd\n",
    "import yfinance as yf"
   ]
  },
  {
   "cell_type": "code",
   "execution_count": 5,
   "id": "cfb6f088",
   "metadata": {},
   "outputs": [],
   "source": [
    "import datetime\n",
    "from datetime import date,timedelta"
   ]
  },
  {
   "cell_type": "code",
   "execution_count": 6,
   "id": "4826b042",
   "metadata": {},
   "outputs": [
    {
     "data": {
      "text/plain": [
       "datetime.date(2023, 9, 28)"
      ]
     },
     "execution_count": 6,
     "metadata": {},
     "output_type": "execute_result"
    }
   ],
   "source": [
    "today=date.today()\n",
    "today"
   ]
  },
  {
   "cell_type": "code",
   "execution_count": 17,
   "id": "00847755",
   "metadata": {},
   "outputs": [],
   "source": [
    "d1=today.strftime(\"%Y-%m-%d\")\n",
    "end_date=d1"
   ]
  },
  {
   "cell_type": "code",
   "execution_count": 18,
   "id": "8a8ed75a",
   "metadata": {},
   "outputs": [],
   "source": [
    "d2=date.today()-timedelta(days=360)\n",
    "start_date=d2"
   ]
  },
  {
   "cell_type": "code",
   "execution_count": 19,
   "id": "4fc73ac5",
   "metadata": {},
   "outputs": [
    {
     "data": {
      "text/plain": [
       "datetime.date(2022, 10, 3)"
      ]
     },
     "execution_count": 19,
     "metadata": {},
     "output_type": "execute_result"
    }
   ],
   "source": [
    "d2"
   ]
  },
  {
   "cell_type": "code",
   "execution_count": 20,
   "id": "a457e461",
   "metadata": {},
   "outputs": [
    {
     "name": "stdout",
     "output_type": "stream",
     "text": [
      "                  Open        High         Low       Close   Adj Close  \\\n",
      "Date                                                                     \n",
      "2022-10-03  138.210007  143.070007  137.690002  142.449997  141.609924   \n",
      "2022-10-04  145.029999  146.220001  144.259995  146.100006  145.238403   \n",
      "2022-10-05  144.070007  147.380005  143.009995  146.399994  145.536606   \n",
      "2022-10-06  145.809998  147.539993  145.220001  145.429993  144.572342   \n",
      "2022-10-07  142.539993  143.100006  139.449997  140.089996  139.263840   \n",
      "2022-10-10  140.419998  141.889999  138.570007  140.419998  139.591888   \n",
      "2022-10-11  139.899994  141.350006  138.220001  138.979996  138.160370   \n",
      "2022-10-12  139.130005  140.360001  138.160004  138.339996  137.524155   \n",
      "2022-10-13  134.990005  143.589996  134.369995  142.990005  142.146729   \n",
      "2022-10-14  144.309998  144.520004  138.190002  138.380005  137.563919   \n",
      "\n",
      "               Volume  \n",
      "Date                   \n",
      "2022-10-03  114311700  \n",
      "2022-10-04   87830100  \n",
      "2022-10-05   79471000  \n",
      "2022-10-06   68402200  \n",
      "2022-10-07   85925600  \n",
      "2022-10-10   74899000  \n",
      "2022-10-11   77033700  \n",
      "2022-10-12   70433700  \n",
      "2022-10-13  113224000  \n",
      "2022-10-14   88598000  \n"
     ]
    }
   ],
   "source": [
    "data=yf.download('AAPL',\n",
    "                start=start_date,\n",
    "                end=end_date,\n",
    "                progress=False)\n",
    "print(data.head(10))"
   ]
  },
  {
   "cell_type": "code",
   "execution_count": null,
   "id": "fb66d336",
   "metadata": {},
   "outputs": [],
   "source": []
  },
  {
   "cell_type": "code",
   "execution_count": null,
   "id": "12679675",
   "metadata": {},
   "outputs": [],
   "source": []
  }
 ],
 "metadata": {
  "kernelspec": {
   "display_name": "Python 3 (ipykernel)",
   "language": "python",
   "name": "python3"
  },
  "language_info": {
   "codemirror_mode": {
    "name": "ipython",
    "version": 3
   },
   "file_extension": ".py",
   "mimetype": "text/x-python",
   "name": "python",
   "nbconvert_exporter": "python",
   "pygments_lexer": "ipython3",
   "version": "3.11.4"
  }
 },
 "nbformat": 4,
 "nbformat_minor": 5
}
