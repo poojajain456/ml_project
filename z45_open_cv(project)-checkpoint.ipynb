{
 "cells": [
  {
   "cell_type": "code",
   "execution_count": 10,
   "id": "c36bfa80",
   "metadata": {},
   "outputs": [
    {
     "name": "stdout",
     "output_type": "stream",
     "text": [
      "image in new scale [[[  8  10  10]\n",
      "  [ 10  11  11]\n",
      "  [  6   3   5]\n",
      "  ...\n",
      "  [231 236 238]\n",
      "  [231 236 235]\n",
      "  [240 246 242]]\n",
      "\n",
      " [[ 13  14  14]\n",
      "  [ 27  27  27]\n",
      "  [ 22  19  19]\n",
      "  ...\n",
      "  [222 226 229]\n",
      "  [226 231 230]\n",
      "  [238 243 238]]\n",
      "\n",
      " [[ 21  20  20]\n",
      "  [ 56  54  54]\n",
      "  [ 50  46  45]\n",
      "  ...\n",
      "  [207 209 213]\n",
      "  [218 221 220]\n",
      "  [232 237 232]]\n",
      "\n",
      " ...\n",
      "\n",
      " [[240 240 240]\n",
      "  [222 222 222]\n",
      "  [205 205 205]\n",
      "  ...\n",
      "  [176 178 178]\n",
      "  [197 199 199]\n",
      "  [219 221 221]]\n",
      "\n",
      " [[240 240 240]\n",
      "  [230 230 230]\n",
      "  [216 216 216]\n",
      "  ...\n",
      "  [194 196 196]\n",
      "  [209 211 211]\n",
      "  [226 228 228]]\n",
      "\n",
      " [[240 240 240]\n",
      "  [234 234 234]\n",
      "  [223 223 223]\n",
      "  ...\n",
      "  [204 206 206]\n",
      "  [216 218 218]\n",
      "  [230 232 232]]]\n"
     ]
    }
   ],
   "source": [
    "import cv2\n",
    "import numpy \n",
    "\n",
    "img1=cv2.imread(\"C:\\\\Users\\\\pujaj\\\\Pictures\\\\test.png\",1)  #here 1 is used for color pixels\n",
    "img1=cv2.resize(img1,(560,700))  #width, height\n",
    "print(img1)\n",
    "cv2.imshow(\"original images\",img1)\n",
    "\n",
    "#grayscale image\n",
    "# img2=cv2.imread(\"C:\\\\Users\\\\pujaj\\\\Pictures\\\\test.png\",0)  #here 0 is used for dark pixels\n",
    "# img2=cv2.resize(img2,(560,700))  #width, height\n",
    "# cv2.imshow(\"Gray Scale Iamge\",img2)\n",
    "# print(\"Image in grey scale\",img2)\n",
    "\n",
    "#greyscale image\n",
    "# img3=cv2.imread(\"C:\\\\Users\\\\pujaj\\\\Pictures\\\\test.png\",-1)  #here -1 is used for high saturation values\n",
    "# img3=cv2.resize(img3,(560,700))  #width, height\n",
    "# cv2.imshow(\"New Image\",img3)\n",
    "# print(\"image in new scale\",img3)\n",
    "\n",
    "cv2.waitKey(4000) #it will open our image for 4000 mili second(4 seconds)\n",
    "cv2.destroyAllWindows()"
   ]
  },
  {
   "cell_type": "markdown",
   "id": "def98ef1",
   "metadata": {},
   "source": [
    "# (project-1) Image conversion project colored image into grayscale"
   ]
  },
  {
   "cell_type": "code",
   "execution_count": 14,
   "id": "fb4f5ac1",
   "metadata": {},
   "outputs": [
    {
     "name": "stdout",
     "output_type": "stream",
     "text": [
      "enter the path and name of an imageC:\\\\Users\\\\pujaj\\\\Pictures\\\\test.png\n",
      "you enter this== C:\\\\Users\\\\pujaj\\\\Pictures\\\\test.png\n"
     ]
    }
   ],
   "source": [
    "path=input(\"enter the path and name of an image\")\n",
    "print(\"you enter this==\",path)\n",
    "#now read image\n",
    "img1=cv2.imread(path,0)\n",
    "img1=cv2.resize(img1,(560,700))\n",
    "# img1=cv2.filp(img1,0)   #it accept parameter 0,-1,1 (rotae the image)\n",
    "cv2.imshow(\"Converted image\",img1)\n",
    "\n",
    "#cv2.waitKey(0)\n",
    "#cv2.destroyAllWindows()\n",
    "\n",
    "k=cv2.waitKey(0)\n",
    "if k==ord(\"s\"):\n",
    "    cv2.imwrite(\"C:\\\\Users\\\\pujaj\\\\Pictures\\\\test.png\",img1)\n",
    "else:\n",
    "    cv2.destroyAllWindows()"
   ]
  },
  {
   "cell_type": "code",
   "execution_count": null,
   "id": "f9a6f440",
   "metadata": {},
   "outputs": [
    {
     "name": "stdout",
     "output_type": "stream",
     "text": [
      "< cv2.VideoCapture 000001EF10043530>\n"
     ]
    }
   ],
   "source": [
    "import cv2\n",
    "cap=cv2.VideoCapture(0,cv2.CAP_DSHOW)\n",
    "\n",
    "#DIVX,XVID,MJPG, X264, WMV1, WMV2\n",
    "fourcc=cv2.VideoWriter_fourcc(*\"XVID\")\n",
    "#it contains 4 parameter, name, codec, fps, resolution\n",
    "output=cv2.VideoWriter(\"C:\\\\Users\\\\pujaj\\\\Desktop\\\\output.avi\", fourcc,20.0,(640,480))   # here 20= frame per second\n",
    "#output=cv2.VideoWriter(\"C:\\Users\\pujaj\\Desktop\\\\output.avi\", fourcc,20.0,(640,480),0)\n",
    "print(cap)\n",
    "\n",
    "while cap.isOpened():\n",
    "    ret,frame=cap.read()\n",
    "    if ret==True:\n",
    "        gray=cv2.cvtColor(frame,cv2.COLOR_BGR2GRAY)\n",
    "        ##frame=cv2.flip(frame,0) if we wanot to filp(reverse) our video\n",
    "        cv2.imshow('frame',frame)\n",
    "        cv2.imshow('gray',gray)\n",
    "        output.write(frame)\n",
    "        #output.write(gray)==> if we want to take only grey video\n",
    "        if cv2.waitKey(1) & 0xFF==ord('q'):\n",
    "            break\n",
    "\n",
    "cap.release()\n",
    "output.release()\n",
    "cv2.destroyAllWindows()"
   ]
  },
  {
   "cell_type": "code",
   "execution_count": null,
   "id": "28024a4d",
   "metadata": {},
   "outputs": [],
   "source": []
  }
 ],
 "metadata": {
  "kernelspec": {
   "display_name": "Python 3 (ipykernel)",
   "language": "python",
   "name": "python3"
  },
  "language_info": {
   "codemirror_mode": {
    "name": "ipython",
    "version": 3
   },
   "file_extension": ".py",
   "mimetype": "text/x-python",
   "name": "python",
   "nbconvert_exporter": "python",
   "pygments_lexer": "ipython3",
   "version": "3.11.4"
  }
 },
 "nbformat": 4,
 "nbformat_minor": 5
}
