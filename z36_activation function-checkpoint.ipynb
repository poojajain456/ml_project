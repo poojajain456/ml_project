{
 "cells": [
  {
   "cell_type": "markdown",
   "id": "eec571a7",
   "metadata": {},
   "source": [
    "# Activation function==>\n",
    "\n",
    "Activation function are mathematical function to the outputs of individual neurnons in a neural network. they introduce non- linearity into the networks, allowing it to learn and approximate complex relationship between input and output"
   ]
  },
  {
   "cell_type": "markdown",
   "id": "5b728ab0",
   "metadata": {},
   "source": [
    "# Activation functions are essential in deep learning for the following reasons:\n",
    "\n",
    "(1). Non-linearity: Activation functions introduce non-linear transformations to the network, enabling it to learn complex patterns and relationships in the data. Without activation functions, a neural network would simply be a linear model.\n",
    "\n",
    "I (2). Gradient propagation: Activation functions help propagate gradients backward during the training process, allowing efficient optimization and learning. Different activation functions have different characteristics in terms of gradient behavior, which can impact the model's training dynamics.\n",
    "\n",
    "(3). Model capacity: The choice of activation function can influence the capacity and expressive power of a neural network. Non-linear activation functions enable the network to represent more complex functions, expanding its ability to learn and generalize.\n",
    "\n",
    "By using suitable activation functions, deep learning models can leam and approximate highly nonlinear functions, making them powerful tools for tasks such as image recognition, natural language processing, and speech recognition."
   ]
  },
  {
   "cell_type": "markdown",
   "id": "f26f5e33",
   "metadata": {},
   "source": [
    "# some commonly used activation functions in deep learning.\n",
    "\n",
    "(1).Sigmoid function (Logistic function): It maps the input to a value between 0 and 1. It was widely used in the past but is now less popular due to some drawbacks such as vanishing gradients.\n",
    "\n",
    "(2). Hyperbolic tangent function (tanh): Similar to the sigmoid function, but it maps the input to a value between -1 and 1. It is still used in some cases, but it also suffers from vanishing gradients.\n",
    "\n",
    "(3).Rectified Linear Unit (ReLU): This function sets all negative values to zero and keeps positive values unchanged. It is the most popular activation function in deep learning due to its simplicity and effectiveness in training deep neural networks.\n",
    "\n",
    "(4), Leaky ReLU: This function is similar to ReLU but allows a small negative slope for negative input values. It helps mitigate the \"dying ReLU\" problem where some neurons can become permanently inactive during training.\n",
    "\n",
    "(5).Parametric ReLU (PReLU): PRELU is a generalization of ReLU that introduces a leamable parameter to determine the slope of negative input values. It offers more flexibility and can improve model performance.\n",
    "\n",
    "(6).Exponential Linear Unit (ELU): ELU is a variation of ReLU that allows negative values with a smooth exponential decay. It helps alleviate the dying ReLU problem and can produce more robust models.\n",
    "\n",
    "(7).Softmax: Softmax is commonly used in the output layer of a neural network for multi-class classification problems. It normalizes the output values to represent probabilities, ensuring that the sum of all probabilities is 1."
   ]
  },
  {
   "cell_type": "markdown",
   "id": "c911e6d9",
   "metadata": {},
   "source": [
    "# 1) sigmoid function:-\n",
    "\n",
    "the sigmoid function, also known as the logistic function, is a mathematical function that maps any real-valued number to a value between 0 and 1. it is commmonly used in machine laeraning and neural netwprks as an activation function to introduce non-linearity the model."
   ]
  },
  {
   "cell_type": "markdown",
   "id": "fe90db53",
   "metadata": {},
   "source": [
    "# sigmoid(x)=1/(1+exp(-x))"
   ]
  },
  {
   "cell_type": "markdown",
   "id": "3840f81b",
   "metadata": {},
   "source": [
    "# The sigmoid function has an S-shaped curve and its output values range from 0 to 1. When the input x is a large positive number, the sigmoid function approaches 1, and when the input is a large negative number, it approaches 0. The function returns 0.5 when the input is 0. T"
   ]
  },
  {
   "cell_type": "code",
   "execution_count": 1,
   "id": "b22352a9",
   "metadata": {},
   "outputs": [
    {
     "name": "stdout",
     "output_type": "stream",
     "text": [
      "sigmoid( 2.5 )= 0.9241418199787566\n"
     ]
    }
   ],
   "source": [
    "import numpy as np\n",
    "\n",
    "def sigmoid(x):\n",
    "    return 1/(1+np.exp(-x))\n",
    "\n",
    "#example usage\n",
    "x=2.5\n",
    "result=sigmoid(x)\n",
    "print(\"sigmoid(\",x,\")=\", result)"
   ]
  },
  {
   "cell_type": "markdown",
   "id": "084760e4",
   "metadata": {},
   "source": [
    "# 2) tenh activation function\n",
    "\n",
    "inshort, the hyperbolic tangent activation function(tanh) is a valuable tool in deep learning. it provides non-linear, a steeper gradient and zero- centered outputs, allowing neural networks to model complex patterns and imporove training dynamics"
   ]
  },
  {
   "cell_type": "code",
   "execution_count": 10,
   "id": "0174c920",
   "metadata": {},
   "outputs": [
    {
     "name": "stdout",
     "output_type": "stream",
     "text": [
      "Epoch 1/10\n",
      "25/25 [==============================] - 1s 3ms/step - loss: 0.5743 - accuracy: 0.7025\n",
      "Epoch 2/10\n",
      "25/25 [==============================] - 0s 3ms/step - loss: 0.4287 - accuracy: 0.8213\n",
      "Epoch 3/10\n",
      "25/25 [==============================] - 0s 3ms/step - loss: 0.3927 - accuracy: 0.8350\n",
      "Epoch 4/10\n",
      "25/25 [==============================] - 0s 3ms/step - loss: 0.3750 - accuracy: 0.8400\n",
      "Epoch 5/10\n",
      "25/25 [==============================] - 0s 3ms/step - loss: 0.3530 - accuracy: 0.8500\n",
      "Epoch 6/10\n",
      "25/25 [==============================] - 0s 3ms/step - loss: 0.3440 - accuracy: 0.8612\n",
      "Epoch 7/10\n",
      "25/25 [==============================] - 0s 3ms/step - loss: 0.3256 - accuracy: 0.8700\n",
      "Epoch 8/10\n",
      "25/25 [==============================] - 0s 3ms/step - loss: 0.3098 - accuracy: 0.8725\n",
      "Epoch 9/10\n",
      "25/25 [==============================] - 0s 3ms/step - loss: 0.2953 - accuracy: 0.8775\n",
      "Epoch 10/10\n",
      "25/25 [==============================] - 0s 3ms/step - loss: 0.2845 - accuracy: 0.8838\n",
      "7/7 [==============================] - 0s 3ms/step - loss: 0.2541 - accuracy: 0.8950\n",
      "Test Loss: 0.2541489005088806\n",
      "Test Accuracy: 0.8949999809265137\n"
     ]
    }
   ],
   "source": [
    "import numpy as np\n",
    "from sklearn.datasets import make_classification \n",
    "from sklearn.model_selection import train_test_split\n",
    "from tensorflow.keras.models import Sequential \n",
    "from tensorflow.keras.layers import Dense, Activation\n",
    "\n",
    "# Generate a synthetic classification dataset\n",
    "X, y = make_classification(n_samples=1000, n_features=10, n_informative=5, random_state=42)\n",
    "\n",
    "# Split the data into training and testing sets\n",
    "X_train, X_test, y_train, y_test = train_test_split(X, y, test_size=0.2, random_state=42)\n",
    "\n",
    "#Build the neural network model\n",
    "model = Sequential()\n",
    "model.add(Dense (64, activation='tanh', input_shape=(X_train.shape[1],)))\n",
    "model.add(Dense(64, activation='tanh'))\n",
    "model.add(Dense (1, activation='sigmoid'))\n",
    "\n",
    "# Compile the model\n",
    "model.compile(optimizer='adam', loss='binary_crossentropy', metrics=['accuracy'])\n",
    "\n",
    "# Train the model\n",
    "model.fit(X_train, y_train, epochs=10, batch_size=32)\n",
    "\n",
    "#Evaluate the model on the testing data\n",
    "loss, accuracy = model.evaluate(X_test, y_test)\n",
    "print(\"Test Loss:\", loss)\n",
    "print(\"Test Accuracy:\", accuracy)"
   ]
  },
  {
   "cell_type": "markdown",
   "id": "239271e6",
   "metadata": {},
   "source": [
    "# visualize tenh function"
   ]
  },
  {
   "cell_type": "code",
   "execution_count": 12,
   "id": "29824b77",
   "metadata": {},
   "outputs": [
    {
     "data": {
      "image/png": "[encoded data removed]",
      "text/plain": [
       "<Figure size 640x480 with 1 Axes>"
      ]
     },
     "metadata": {},
     "output_type": "display_data"
    }
   ],
   "source": [
    "import numpy as np\n",
    "import matplotlib.pyplot as plt\n",
    "\n",
    "#generate x values ranging from -5 to 5\n",
    "\n",
    "x=np.linspace(-5, 5, 100)\n",
    "\n",
    "#compute the tenh values for each x\n",
    "y=np.tanh(x)\n",
    "\n",
    "#plot the tanh function\n",
    "plt.plot(x,y,label='tanh(x)')\n",
    "plt.xlabel('x')\n",
    "plt.ylabel('tanh(x)')\n",
    "plt.title(\"Hyperbolic Tangent(tanh) Activation Function\")\n",
    "plt.legend()\n",
    "plt.grid(True)\n",
    "plt.show()\n"
   ]
  },
  {
   "cell_type": "markdown",
   "id": "9cba2853",
   "metadata": {},
   "source": [
    "# 3) Relu(Rectified linear unit)\n",
    "\n",
    "\n",
    " The Rectified unit(Relu) activation function is a popular choice in deep learning neural networks due to its simplicity and effectiveness. it introduces non-linearity to the network, allowing it to learn and approximate complex realtionships between input and outputs. ReLU has become a standard activation function in many deep learning architecture\n",
    "\n",
    "The ReLU function is defined as follows:\n",
    "\n",
    "ReLU(x)=max(0,x)\n",
    "\n",
    "In others words, ReLU takes an input value x and returns the maximum of 0 and x is greater than 0, ReLU outputs x directly. if x is less than or equal to 0 ReLU outputs 0. therefore, the function \"rectifiles\" negative values to zero, while levaing positive values unchanged"
   ]
  },
  {
   "cell_type": "markdown",
   "id": "7503d03b",
   "metadata": {},
   "source": [
    "# ReLU has several desirable properties that make it an attractive choice:\n",
    "\n",
    "(1). Simplicity: ReLU is a simple mathematical function with low computational complexity. It only involves a single comparison and a maximum operation.\n",
    "\n",
    "(2). Non-linearity: ReLU introduces non-linear behavior to the network, which allows it to learn and represent complex patterns in the data. This non-linearity is crucial for modeling highly nonlinear relationships between inputs and outputs.\n",
    "\n",
    "(3). Sparse activation: ReLU activations are sparse, meaning that only a subset of the neurons in a layer will be activated at any given time. This sparsity can lead to more efficient and expressive representations, as it encourages the network to focus on the most relevant features.\n",
    "\n",
    "(4). Avoiding the vanishing gradient problem: ReLU helps mitigate the vanishing gradient problem, which can occur when training deep neural networks. The vanishing gradient problem refers to the issue of gradients diminishing exponentially as they are backpropagated through many layers. Since ReLU does not saturate in the positive range (l.e., the gradient is 1 for positive inputs), it allows gradients to flow more freely and prevents them from vanishing.\n",
    "\n",
    "(5). Efficient computation: ReLU's piecewise linearity allows for efficient computation during both forward and backward propagation. It is computationally inexpensive to evaluate the ReLU function and its derivative."
   ]
  },
  {
   "cell_type": "markdown",
   "id": "35fec468",
   "metadata": {},
   "source": [
    "# Disadvantages of ReLU:\n",
    "\n",
    "(1). Dead neurons: During training, some neurons may become \"dead\" or \"dying\" as they never activate (output zero) for any input. This happens when the neuron's bias term is initialized in such a way that the weighted sum of inputs is always negative. Once a neuron becomes dead, it cannot recover because the gradient of the ReLU function is zero for negative inputs. Dead neurons can lead to a decrease in the model's representational capacity.\n",
    "\n",
    "(2). Output saturation: ReLU saturates at zero for negative inputs. This means that when the input is negative, the gradient becomes zero, causing the neuron to be non-responsive to further changes. This saturation behavior can limit the ability of the model to learn effectively, especially in cases where negative inputs are relevant for the task.\n",
    "\n",
    "(3). Lack of negative output: ReLU only allows positive values or zero as output, which can be a disadvantage for certain tasks. Some data distributions or problem domains may benefit from having negative values in the output space. For example, in image generation tasks, negative pixel values can represent dark regions.\n",
    "\n",
    "(4). Gradient explosion: Although ReLU mitigates the vanishing gradient problem, it can still suffer from the opposite issue of gradient explosion, especially when used in deep neural networks. If the learning rate is not properly adjusted, large positive gradients can propagate through the network, causing instability and making it difficult to converge to an optimal solution."
   ]
  },
  {
   "cell_type": "code",
   "execution_count": 2,
   "id": "02559707",
   "metadata": {},
   "outputs": [
    {
     "name": "stdout",
     "output_type": "stream",
     "text": [
      "[0. 2. 0. 3.]\n"
     ]
    }
   ],
   "source": [
    "import tensorflow as tf\n",
    "#define the input tensor\n",
    "input_tensor=tf.constant([-1.0,2.0,-0.5,3.0])\n",
    "#Apply ReLU activation function\n",
    "output_tensor=tf.nn.relu(input_tensor)\n",
    "#print the output\n",
    "print(output_tensor.numpy())"
   ]
  },
  {
   "cell_type": "code",
   "execution_count": 1,
   "id": "9b3dcfab",
   "metadata": {},
   "outputs": [
    {
     "name": "stdout",
     "output_type": "stream",
     "text": [
      "Epoch 1/10\n",
      "25/25 [==============================] - 1s 3ms/step - loss: 0.5553 - accuracy: 0.7437\n",
      "Epoch 2/10\n",
      "25/25 [==============================] - 0s 3ms/step - loss: 0.3995 - accuracy: 0.8712\n",
      "Epoch 3/10\n",
      "25/25 [==============================] - 0s 3ms/step - loss: 0.3265 - accuracy: 0.8900\n",
      "Epoch 4/10\n",
      "25/25 [==============================] - 0s 3ms/step - loss: 0.2901 - accuracy: 0.8988\n",
      "Epoch 5/10\n",
      "25/25 [==============================] - 0s 3ms/step - loss: 0.2672 - accuracy: 0.8988\n",
      "Epoch 6/10\n",
      "25/25 [==============================] - 0s 3ms/step - loss: 0.2487 - accuracy: 0.9038\n",
      "Epoch 7/10\n",
      "25/25 [==============================] - 0s 3ms/step - loss: 0.2329 - accuracy: 0.9038\n",
      "Epoch 8/10\n",
      "25/25 [==============================] - 0s 3ms/step - loss: 0.2198 - accuracy: 0.9112\n",
      "Epoch 9/10\n",
      "25/25 [==============================] - 0s 3ms/step - loss: 0.2064 - accuracy: 0.9187\n",
      "Epoch 10/10\n",
      "25/25 [==============================] - 0s 3ms/step - loss: 0.1963 - accuracy: 0.9225\n",
      "7/7 [==============================] - 0s 5ms/step - loss: 0.1726 - accuracy: 0.9300\n",
      "Test Loss: 0.1725524514913559\n",
      "Test Accuracy: 0.9300000071525574\n"
     ]
    }
   ],
   "source": [
    "import numpy as np\n",
    "from sklearn.datasets import make_classification \n",
    "from sklearn.model_selection import train_test_split\n",
    "from tensorflow.keras.models import Sequential \n",
    "from tensorflow.keras.layers import Dense, Activation\n",
    "\n",
    "# Generate a synthetic classification dataset\n",
    "X, y = make_classification(n_samples=1000, n_features=10, n_informative=5, random_state=42)\n",
    "\n",
    "# Split the data into training and testing sets\n",
    "X_train, X_test, y_train, y_test = train_test_split(X, y, test_size=0.2, random_state=42)\n",
    "\n",
    "#Build the neural network model\n",
    "model = Sequential()\n",
    "model.add(Dense (64, activation='ReLU', input_shape=(X_train.shape[1],)))\n",
    "model.add(Dense(64, activation='ReLU'))\n",
    "model.add(Dense (1, activation='sigmoid'))\n",
    "\n",
    "# Compile the model\n",
    "model.compile(optimizer='adam', loss='binary_crossentropy', metrics=['accuracy'])\n",
    "\n",
    "# Train the model\n",
    "model.fit(X_train, y_train, epochs=10, batch_size=32)\n",
    "\n",
    "#Evaluate the model on the testing data\n",
    "loss, accuracy = model.evaluate(X_test, y_test)\n",
    "print(\"Test Loss:\", loss)\n",
    "print(\"Test Accuracy:\", accuracy)"
   ]
  },
  {
   "cell_type": "code",
   "execution_count": 10,
   "id": "f338ab6e",
   "metadata": {},
   "outputs": [
    {
     "name": "stdout",
     "output_type": "stream",
     "text": [
      "1/1 [==============================] - 0s 82ms/step\n",
      "predicted output:[[ 2.2020197  -0.20055008]]\n"
     ]
    }
   ],
   "source": [
    "import tensorflow as tf\n",
    "import numpy as np\n",
    "from tensorflow import keras\n",
    "\n",
    "#define the neural network architecture\n",
    "input_size=4\n",
    "hidden_size=8\n",
    "output_size=2\n",
    "\n",
    "#define the model\n",
    "model=keras.Sequential([\n",
    "    keras.layers.Dense(hidden_size,activation='relu',input_shape=(input_size,)),\n",
    "    keras.layers.Dense(output_size)\n",
    "])\n",
    "\n",
    "#compile the model\n",
    "model.compile(optimizer=keras.optimizers.SGD(learning_rate=0.01),\n",
    "              loss=keras.losses.MeanSquaredError())\n",
    "\n",
    "#define your input and target data as numpy arrays\n",
    "input_data=np.array([[1.0,2.0,3.0,4.0],\n",
    "                    [2.0,3.0,4.0,5.0],\n",
    "                    [3.0,4.0,5.0,6.0]])\n",
    "\n",
    "traget_data=np.array([[0.5,0.8],\n",
    "                     [0.6,0.9],\n",
    "                     [0.7,1.0]])\n",
    "\n",
    "#train the model\n",
    "test_input=np.array([[1.0,2.0,3.0,4.0]])\n",
    "predict_output=model.predict(test_input)\n",
    "\n",
    "print(f\"predicted output:{predict_output}\")"
   ]
  },
  {
   "cell_type": "markdown",
   "id": "b8f48075",
   "metadata": {},
   "source": [
    "# 4) Leaky ReLu:-\n",
    "\n",
    "The Leaky Rectified Linear Unit (Leaky ReLU) activation function is a variation of the ReLU activation function that addresses some of the limitations of the standard ReLU. It introduces a small slope for negative values, allowing the activation function to have non-zero outputs even for negative inputs. This helps mitigate the issue of \"dying\" or \"dead\" neurons in ReLU.\n",
    "\n",
    "The Leaky ReLU function is defined as follows:\n",
    "\n",
    "LeakyReLU(x) = max(ax, x)\n",
    "\n",
    "where 'a' is a small constant (usually a small positive value), and is the input value. If X is greater than or equal to 0, Leaky ReLU behaves the same as ReLU, outputting directly. However, if x is negative, Leaky ReLU outputs the product of 'a' and 'X\n",
    "\n",
    "The inclusion of a small slope for negative inputs in Leaky ReLU helps address the issue of dead neurons that can occur in ReLU. When neurons become dead, they output zero for all inputs and do not contribute to the leaming process. By introducing a small negative slope, Leaky ReLU allows for a non-zero gradient even for negative inputs, preventing neurons from becoming completely non-responsive.\n",
    "\n",
    "The benefits of Leaky ReLU can be summarized as follows:\n",
    "\n",
    "(1), Solving the dying ReLU problem: By introducing a small slope for negative inputs, Leaky ReLU avoids the issue of dead neurons that can occur in ReLU. The small slope ensures that even negative inputs contribute to the gradient, allowing neurons to recover from non-activation.\n",
    "\n",
    "(2) Non-zero outputs for negative inputs: Leaky ReLU provides non-zero outputs for negative inputs, allowing the model to learn from both positive and negative activations. This property can be useful in situations where negative values are meaningful or when the data distribution includes negative values\n",
    "\n",
    "(3). Simplicity and computational efficiency: Leaky ReLU, like ReLU, is a simple mathematical function and has low computational complexity. It can be computed efficiently during both forward and backward propagation."
   ]
  },
  {
   "cell_type": "code",
   "execution_count": 18,
   "id": "200017dd",
   "metadata": {},
   "outputs": [
    {
     "ename": "NameError",
     "evalue": "name 'hidden_weigths' is not defined",
     "output_type": "error",
     "traceback": [
      "\u001b[1;31m---------------------------------------------------------------------------\u001b[0m",
      "\u001b[1;31mNameError\u001b[0m                                 Traceback (most recent call last)",
      "Cell \u001b[1;32mIn[18], line 18\u001b[0m\n\u001b[0;32m     15\u001b[0m hidden_biases\u001b[38;5;241m=\u001b[39m tf\u001b[38;5;241m.\u001b[39mVariable(tf\u001b[38;5;241m.\u001b[39mzeros(shape\u001b[38;5;241m=\u001b[39m(hidden_size,)))\n\u001b[0;32m     17\u001b[0m \u001b[38;5;66;03m#compute the hidden layer output with leaky ReLU activation function\u001b[39;00m\n\u001b[1;32m---> 18\u001b[0m hidden_layer_output\u001b[38;5;241m=\u001b[39mtf\u001b[38;5;241m.\u001b[39mnn\u001b[38;5;241m.\u001b[39mleaky_relu(tf\u001b[38;5;241m.\u001b[39mmatmul(inputs,hidden_weigths)\u001b[38;5;241m+\u001b[39mhidden_biases,alpha\u001b[38;5;241m=\u001b[39m\u001b[38;5;241m0.2\u001b[39m)\n\u001b[0;32m     20\u001b[0m \u001b[38;5;66;03m#define the weights and biases for the output layer\u001b[39;00m\n\u001b[0;32m     21\u001b[0m output_weigths\u001b[38;5;241m=\u001b[39mtf\u001b[38;5;241m.\u001b[39mVariable(tf\u001b[38;5;241m.\u001b[39mrandom\u001b[38;5;241m.\u001b[39mnormal(shape\u001b[38;5;241m=\u001b[39m(hidden_size\u001b[38;5;241m.\u001b[39moutput_size)))\n",
      "\u001b[1;31mNameError\u001b[0m: name 'hidden_weigths' is not defined"
     ]
    }
   ],
   "source": [
    "import tensorflow as tf\n",
    "import numpy as np\n",
    "\n",
    "#define the neural network architecture\n",
    "input_size=4\n",
    "hidden_size=8\n",
    "output_size=2\n",
    "\n",
    "#create the input and target tensors\n",
    "inputs =tf.keras.Input(shape=(input_size))\n",
    "targets =tf.keras.Input(shape=(output_size))\n",
    "\n",
    "#definr the weight and bias for the hidden layer\n",
    "hidden_weights=tf.Variable(tf.random.normal(shape=(input_size,hidden_size)))\n",
    "hidden_biases= tf.Variable(tf.zeros(shape=(hidden_size,)))\n",
    "\n",
    "#compute the hidden layer output with leaky ReLU activation function\n",
    "hidden_layer_output=tf.nn.leaky_relu(tf.matmul(inputs,hidden_weigths)+hidden_biases,alpha=0.2)\n",
    "\n",
    "#define the weights and biases for the output layer\n",
    "output_weigths=tf.Variable(tf.random.normal(shape=(hidden_size.output_size)))\n",
    "output_biases=tf.Variable(tf.zeros(shape=(output_size,)))\n",
    "\n",
    "#compute the final output\n",
    "output=tf.matmul(hidden_layer_output,output_weights)+output_biases\n",
    "\n",
    "#define the loss function\n",
    "loss=tf.reduce_mean(tf.square(output-tragets))\n",
    "\n",
    "#definr the optimizer\n",
    "optimizer=tf.keras.optimizers.SGD(learning_rate=0.01)\n",
    "\n",
    "#create the model\n",
    "model=tf.keras.Model(inputs=[inputs,tragets],outputs=output)\n",
    "model.add_loss(loss)\n",
    "\n",
    "#compile the model\n",
    "model.complie(optimizer=optimizer)\n",
    "\n",
    "#define your input and target data as numpy arrays\n",
    "input_data= np.array([[1.0,2.0,3.0,4.0]])  #replace with ypur input data\n",
    "target_data=np.array([[0.5,0.8]])  #repalce with your target data\n",
    "\n",
    "#train the model\n",
    "model.fit([input_data,target_data],epochs=1000,verbose=0)\n",
    "\n",
    "#test the trained networks\n",
    "test_input=np.array([[1.0,2.0,3.0,4.0]])\n",
    "test_target=np.array([[0.0,0.0]])  #dummy target for prediction, not used\n",
    "predicted_output=model.predict([test_input,test_target])\n",
    "\n",
    "\n",
    "print (f\"predicted output:{predicted_output}\")"
   ]
  },
  {
   "cell_type": "markdown",
   "id": "b26b034a",
   "metadata": {},
   "source": [
    "# (5). ELU(Exponantial Linear Unit)\n",
    "\n",
    "The Exponential Linear Unit (ELU) activation function is a variant of the Rectified Linear Unit (ReLU) activation function that introduces a negative saturation regime to handle negative inputs. It aims to address the limitations of the ReLU function, such as the \"dying ReLU\" problem and the lack of activation for nagative inputs\n",
    "\n",
    "The ELU activation function is defined as follows:\n",
    "\n",
    "ELU(x) = x if x >= 0, alpha* (exp(x) - 1) if x < 0.\n",
    "\n",
    "where 'x' is the input value and alpha is a hypreparameter that controls the finctio's behaviour for naegative inputs.\n",
    "\n",
    "The ELU activation function provides the following advantages:\n",
    "\n",
    "(1) Non-zero gradient for negative inputs: Unlike ReLU, which assigns zero gradients for negative inputs, ELU assigns non-zero gradients. This helps address the \"dying ReLU\" problem, where neurons can become inactive and stop learning due to always receiving negative inputs. The non-zero gradients for negative inputs allow neurons to recover and continue learning."
   ]
  },
  {
   "cell_type": "code",
   "execution_count": null,
   "id": "bfe37103",
   "metadata": {},
   "outputs": [],
   "source": [
    "import tensorflow as tf\n",
    "#define input data\n",
    "input_data=[[1.0,2.0,-3.0,4.0]]\n",
    "target_data=[[1.0,2.0]]    #Adjust target data shape to (1,2)\n",
    "\n",
    "#create a sequential model\n",
    "model=tf.keras.sequential()\n",
    "\n",
    "#add a dense layer with ELU activation function\n",
    "model.add(tf.keras.layers.Dense(8,activation=tf.nn.elu,input_shape=(4,)))\n",
    "\n",
    "#Add output layer\n",
    "model.add(tf.keras.layers.Dense(2))\n",
    "\n",
    "#print model summary\n",
    "model.summary()\n",
    "\n",
    "#compile the model\n",
    "model.compile(optimizer='adam',loss='mse')\n",
    "\n",
    "#train the model\n",
    "model.fit(input_data.traget_data,epochs=1000,verbose=0)\n",
    "\n",
    "#test the model\n",
    "test_input=[[1.0,2.0,3.0,4.0]]\n",
    "predicted_output=model.predicted(test_input)\n",
    "\n",
    "print(f\"predicted output:{predicted_output}\")"
   ]
  }
 ],
 "metadata": {
  "kernelspec": {
   "display_name": "Python 3 (ipykernel)",
   "language": "python",
   "name": "python3"
  },
  "language_info": {
   "codemirror_mode": {
    "name": "ipython",
    "version": 3
   },
   "file_extension": ".py",
   "mimetype": "text/x-python",
   "name": "python",
   "nbconvert_exporter": "python",
   "pygments_lexer": "ipython3",
   "version": "3.11.4"
  }
 },
 "nbformat": 4,
 "nbformat_minor": 5
}
