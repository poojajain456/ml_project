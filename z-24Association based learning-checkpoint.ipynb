{
 "cells": [
  {
   "cell_type": "code",
   "execution_count": 1,
   "id": "8ff961b5",
   "metadata": {},
   "outputs": [],
   "source": [
    "#Association based learning==>\n",
    "#Association analysis identifiers relationship  between abservation and variable from a datasets.\n",
    "#these relationship are expressed bt a set of rules that indicates groups of item that tend to be associated with others.\n",
    "#by using this rule of association we can suggest/predict the interest of user in any mall/market."
   ]
  },
  {
   "cell_type": "code",
   "execution_count": 2,
   "id": "ffb53786",
   "metadata": {},
   "outputs": [],
   "source": [
    "import pandas as pd"
   ]
  },
  {
   "cell_type": "code",
   "execution_count": 4,
   "id": "87de5ba4",
   "metadata": {},
   "outputs": [],
   "source": [
    "a={\n",
    "    \"Transaction ID\":[1,2,3,4,5],\n",
    "    \"Milk\":[1,0,0,1,0],\n",
    "    \"Bread\":[1,0,0,1,1],\n",
    "    \"Butter\":[0,1,0,1,0],\n",
    "    \"Beer\":[0,0,1,0,0],\n",
    "    \"Diapers\":[0,0,1,0,0]\n",
    "    \n",
    "}"
   ]
  },
  {
   "cell_type": "code",
   "execution_count": 5,
   "id": "269af118",
   "metadata": {},
   "outputs": [
    {
     "data": {
      "text/html": [
       "<div>\n",
       "<style scoped>\n",
       "    .dataframe tbody tr th:only-of-type {\n",
       "        vertical-align: middle;\n",
       "    }\n",
       "\n",
       "    .dataframe tbody tr th {\n",
       "        vertical-align: top;\n",
       "    }\n",
       "\n",
       "    .dataframe thead th {\n",
       "        text-align: right;\n",
       "    }\n",
       "</style>\n",
       "<table border=\"1\" class=\"dataframe\">\n",
       "  <thead>\n",
       "    <tr style=\"text-align: right;\">\n",
       "      <th></th>\n",
       "      <th>Transaction ID</th>\n",
       "      <th>Milk</th>\n",
       "      <th>Bread</th>\n",
       "      <th>Butter</th>\n",
       "      <th>Beer</th>\n",
       "      <th>Diapers</th>\n",
       "    </tr>\n",
       "  </thead>\n",
       "  <tbody>\n",
       "    <tr>\n",
       "      <th>0</th>\n",
       "      <td>1</td>\n",
       "      <td>1</td>\n",
       "      <td>1</td>\n",
       "      <td>0</td>\n",
       "      <td>0</td>\n",
       "      <td>0</td>\n",
       "    </tr>\n",
       "    <tr>\n",
       "      <th>1</th>\n",
       "      <td>2</td>\n",
       "      <td>0</td>\n",
       "      <td>0</td>\n",
       "      <td>1</td>\n",
       "      <td>0</td>\n",
       "      <td>0</td>\n",
       "    </tr>\n",
       "    <tr>\n",
       "      <th>2</th>\n",
       "      <td>3</td>\n",
       "      <td>0</td>\n",
       "      <td>0</td>\n",
       "      <td>0</td>\n",
       "      <td>1</td>\n",
       "      <td>1</td>\n",
       "    </tr>\n",
       "    <tr>\n",
       "      <th>3</th>\n",
       "      <td>4</td>\n",
       "      <td>1</td>\n",
       "      <td>1</td>\n",
       "      <td>1</td>\n",
       "      <td>0</td>\n",
       "      <td>0</td>\n",
       "    </tr>\n",
       "    <tr>\n",
       "      <th>4</th>\n",
       "      <td>5</td>\n",
       "      <td>0</td>\n",
       "      <td>1</td>\n",
       "      <td>0</td>\n",
       "      <td>0</td>\n",
       "      <td>0</td>\n",
       "    </tr>\n",
       "  </tbody>\n",
       "</table>\n",
       "</div>"
      ],
      "text/plain": [
       "   Transaction ID  Milk  Bread  Butter  Beer  Diapers\n",
       "0               1     1      1       0     0        0\n",
       "1               2     0      0       1     0        0\n",
       "2               3     0      0       0     1        1\n",
       "3               4     1      1       1     0        0\n",
       "4               5     0      1       0     0        0"
      ]
     },
     "execution_count": 5,
     "metadata": {},
     "output_type": "execute_result"
    }
   ],
   "source": [
    "df=pd.DataFrame(a)\n",
    "df"
   ]
  },
  {
   "cell_type": "markdown",
   "id": "3c3ec8fd",
   "metadata": {},
   "source": [
    "# Problem statement==>\n",
    "\n",
    "out of the 2000 transactions , 200 contain jam where 300 contain bread. these 300 transactions include a 100 that includes bread and jam.\n",
    "\n",
    "using this data,we have to find support,confidence and lift??"
   ]
  },
  {
   "cell_type": "markdown",
   "id": "bf6ae5ad",
   "metadata": {},
   "source": [
    "# support(|)==> (transaction containing)/transactions "
   ]
  },
  {
   "cell_type": "markdown",
   "id": "9aa81940",
   "metadata": {},
   "source": [
    "# confidence(|1==>|2)==>"
   ]
  },
  {
   "cell_type": "markdown",
   "id": "3dc01c60",
   "metadata": {},
   "source": [
    "# (transactions containing |1 and |2)/trans"
   ]
  },
  {
   "cell_type": "markdown",
   "id": "f8d4b43a",
   "metadata": {},
   "source": [
    "# lift(|1==>|2)==> confidence(|1==>|2)/support(|1)"
   ]
  },
  {
   "cell_type": "code",
   "execution_count": 6,
   "id": "8f652919",
   "metadata": {},
   "outputs": [],
   "source": [
    "#(1). support==> \n",
    "# support is a default popularity of any item.\n",
    "#we can calculate the support as a quotient of the division of the  number of transactions contaning that item by the total number of transactions.\n",
    "\n",
    "#support(jam)=(transactions involving jam)/(total tranasctions)\n",
    "#=200/2000==>10%\n"
   ]
  },
  {
   "cell_type": "code",
   "execution_count": 7,
   "id": "d4c54158",
   "metadata": {},
   "outputs": [],
   "source": [
    "# (2). Confidence ==>\n",
    "\n",
    "# Confidence is the likelihood that customer bought both bread and jam.\n",
    "# Dividing the number of transactions that include both bread and jam\n",
    "# by the total number of transactions will give the confidence.\n",
    "\n",
    "# Confidence =\n",
    "\n",
    "# (Transaction involving bread and jam)/(Total Transaction involving jam)\n",
    "\n",
    "#= 100/200 = 50%\n",
    "\n",
    "# It implies that 50% of customers who bought jam and bread together."
   ]
  },
  {
   "cell_type": "code",
   "execution_count": 8,
   "id": "4db18551",
   "metadata": {},
   "outputs": [],
   "source": [
    "#Lift==>\n",
    "\n",
    "#lift is the increase in the ratio of the sale of bread when we sell jam.\n",
    "\n",
    "#lift==> (confidence (jam=bread))/(support(jam))\n",
    "\n",
    "#==> 50/10==>5\n",
    "\n",
    "#it says that the likelihood of a customer buying jam and bread togther\n",
    "#it 5 times than the chance of purchasing jam alone.\n",
    "#if the lift value is less than1, it entails that the customer are unlikely to buy both the items together.\n",
    "#greater the value, the better is the combination."
   ]
  },
  {
   "cell_type": "code",
   "execution_count": 9,
   "id": "0628df4a",
   "metadata": {},
   "outputs": [
    {
     "data": {
      "text/plain": [
       "0.0027996267164378083"
      ]
     },
     "execution_count": 9,
     "metadata": {},
     "output_type": "execute_result"
    }
   ],
   "source": [
    "21/7501"
   ]
  },
  {
   "cell_type": "code",
   "execution_count": null,
   "id": "5fcb1a3a",
   "metadata": {},
   "outputs": [],
   "source": []
  }
 ],
 "metadata": {
  "kernelspec": {
   "display_name": "Python 3 (ipykernel)",
   "language": "python",
   "name": "python3"
  },
  "language_info": {
   "codemirror_mode": {
    "name": "ipython",
    "version": 3
   },
   "file_extension": ".py",
   "mimetype": "text/x-python",
   "name": "python",
   "nbconvert_exporter": "python",
   "pygments_lexer": "ipython3",
   "version": "3.11.4"
  }
 },
 "nbformat": 4,
 "nbformat_minor": 5
}
