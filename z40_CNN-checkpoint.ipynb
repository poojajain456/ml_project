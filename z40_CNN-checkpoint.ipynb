{
 "cells": [
  {
   "cell_type": "markdown",
   "id": "590712ff",
   "metadata": {},
   "source": [
    "# Image Data\n",
    "\n",
    "So far, we have dealt with pretty straight forward data that has 1 or 2 dimensions. Now we are about to deal with image data that is usually made up of 3 dimensions. These 3 dimensions are as follows:\n",
    "\n",
    "• image height\n",
    "\n",
    "• image width\n",
    "\n",
    "• color channels\n",
    "\n",
    "The only item in the list above you may not understand is color channels. The number of color channels represents the depth of an image and coorelates to the colors used in it. For example, an image with three channels is likely made up of rgb (red, green, blue) pixels. So, for each pixel we have three numeric values in the range 0-255 that define its color. For an image of color depth 1 we would likely have a greyscale image with one value defining each pixel, again in the range of 0-255.\n",
    "\n",
    "# diagram......\n",
    "\n",
    "Keep this in mind as we discuss how our network works and the input/output of each layer.\n",
    "\n",
    "# Convolutional Neural Network\n",
    "\n",
    "Note: I will use the term convnet and convolutional neural network interchangably.\n",
    "\n",
    "Each convolutional neural network is made up of one or many convolutional layers. These layers are different than the dense layers we have seen previously. Their goal is to find patterns from within images that can be used to classify the image or parts of it. But this may sound familiar to what our densly connected neural network in the previous section was doing, well that's becasue it is.\n",
    "\n",
    "The fundemental difference between a dense layer and a convolutional layer is that dense layers detect patterns globally while convolutional layers detect patterns locally. When we have a densly connected layer each node in that layer sees all the data from the previous layer. This means that this layer is looking at all the information and is only capable of analyzing the data in a global capacity Our convolutional layer however will not be densly connected, this means it can detect local patterns using part of the input data to that layer.\n",
    "\n",
    "Let's have a look at how a densly connected layer would look at an image vs how a convolutional layer would\n",
    "\n",
    "This is our image, the goal of our network will be to determine whether this image is a cat or not.\n",
    "\n",
    "# Image......  of cat\n",
    "\n",
    "Dense Layer: A Dense layer will consider the ENTIRE image. It will look at all the pixels and use that information to generate some output.\n",
    "\n",
    "Convolutional Layer: The convolutional Layer look at specific parts of the image. In this Example let's say it analyse the highlighted parts below and detects patterns there.\n",
    "\n",
    "# Image...... of cat\n",
    "\n"
   ]
  },
  {
   "cell_type": "code",
   "execution_count": null,
   "id": "88703cbd",
   "metadata": {},
   "outputs": [],
   "source": []
  }
 ],
 "metadata": {
  "kernelspec": {
   "display_name": "Python 3 (ipykernel)",
   "language": "python",
   "name": "python3"
  },
  "language_info": {
   "codemirror_mode": {
    "name": "ipython",
    "version": 3
   },
   "file_extension": ".py",
   "mimetype": "text/x-python",
   "name": "python",
   "nbconvert_exporter": "python",
   "pygments_lexer": "ipython3",
   "version": "3.11.4"
  }
 },
 "nbformat": 4,
 "nbformat_minor": 5
}
